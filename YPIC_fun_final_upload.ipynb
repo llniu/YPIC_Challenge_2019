{
 "cells": [
  {
   "cell_type": "code",
   "execution_count": 1,
   "metadata": {
    "collapsed": true
   },
   "outputs": [],
   "source": [
    "import pandas as pd\n",
    "import numpy as np\n",
    "import matplotlib.pyplot as plt\n",
    "import PyPDF2\n",
    "import collections\n",
    "from collections import Counter\n",
    "import operator\n",
    "import re"
   ]
  },
  {
   "cell_type": "code",
   "execution_count": 2,
   "metadata": {
    "collapsed": true
   },
   "outputs": [],
   "source": [
    "def filter_pnovo_Sequences (df, score, seq_len=3):\n",
    "    filtered_df=df.loc[(df['Score']>score) & (df['sequence_length']>seq_len)]\n",
    "    sequences=filtered_df['Sq']\n",
    "    return sequences\n",
    "\n",
    "def extract_words(dictionary, sequences):\n",
    "    all_words=[]\n",
    "    for j in sequences:\n",
    "\n",
    "        words_extracted=[]\n",
    "        for i in dictionary:\n",
    "            if str(i) in j.lower():\n",
    "                words_extracted.append(i)\n",
    "        all_words.append(words_extracted)\n",
    "    return all_words\n",
    "\n",
    "def replace_variants (sequence_list):\n",
    "    sequence_list_o=[i.replace('K', 'O') for i in sequence_list]\n",
    "    sequence_list_o=[i for i in sequence_list_o if 'O' in i]\n",
    "    sequence_list_u=[i.replace('K', 'U') for i in sequence_list]\n",
    "    sequence_list_u=[i for i in sequence_list_u if 'U' in i]\n",
    "    sequence_list_i=[i.replace('L', 'I') for i in sequence_list]\n",
    "    sequence_list_i=[i for i in sequence_list_i if 'I' in i]\n",
    "    sequence_list_none = [i for i in sequence_list if 'K' not in i]\n",
    "    sequence_all=sequence_list_none+sequence_list_o+sequence_list_u+sequence_list_i\n",
    "    #sequence_all.append(sequence_list)\n",
    "    sequence_all_reverse=[i[::-1] for i in sequence_all]\n",
    "    \n",
    "    sequences=[sequence_all, sequence_all_reverse]\n",
    "    return(sequences)\n",
    "\n",
    "def words_cut_dict (dictionary, letter):\n",
    "    words_letter=[i for i in dictionary if letter in str(i)]\n",
    "    words_letter_before=[i.split(letter)[0] + letter for i in words_letter]\n",
    "    words_letter_after=[i.split(letter)[1] for i in words_letter]\n",
    "    dict_before=dict(zip(words_letter_before, words_letter))\n",
    "    dict_after=dict(zip(words_letter_after, words_letter))\n",
    "    dict_before.update(dict_after)\n",
    "    return dict_before\n",
    "\n",
    "def return_word_dict (dictionary, sequences, str_len, dict_complete):   \n",
    "    words_extracted=extract_words(dictionary, sequences)\n",
    "    all_words=[]\n",
    "    #all_words_complete=[]\n",
    "    for lists in words_extracted:\n",
    "        for item in lists:\n",
    "            all_words.append(item)\n",
    "            #all_words_complete.append(dict_complete[item]) \n",
    "    from collections import Counter\n",
    "    count= dict(Counter([i for i in all_words if len(str(i))>str_len]))\n",
    "    x = count\n",
    "    sorted_x = sorted(x.items(), key=operator.itemgetter(1), reverse=True)\n",
    "    c_words=[]\n",
    "    for i in np.arange(len(sorted_x)):\n",
    "        c_words.append(sorted_x[i][0])\n",
    "    c_words_complete=[]\n",
    "    for j in c_words:\n",
    "        c_words_complete.append(dict_complete[j])\n",
    "    fun=dict(zip(c_words_complete, sorted_x))\n",
    "    return fun"
   ]
  },
  {
   "cell_type": "code",
   "execution_count": 3,
   "metadata": {},
   "outputs": [
    {
     "name": "stderr",
     "output_type": "stream",
     "text": [
      "/Users/niulili/anaconda3/lib/python3.6/site-packages/IPython/core/interactiveshell.py:2698: DtypeWarning: Columns (9) have mixed types. Specify dtype option on import or set low_memory=False.\n",
      "  interactivity=interactivity, compiler=compiler, result=result)\n"
     ]
    }
   ],
   "source": [
    "## de novo result from pNovo\n",
    "file = 'selected_result.txt'\n",
    "df_Sq_hcd = pd.read_csv(file, sep='\\t')\n",
    "sequence_length = [len(str(i)) for i in list(df_Sq_hcd.Sq)]\n",
    "df_Sq_hcd['sequence_length']=sequence_length\n",
    "\n",
    "file='selected_result_ETD_DE.txt'\n",
    "df_pnovo_ETD_DE=pd.read_csv(file, sep='\\t')\n",
    "sequence_length=[len(str(i)) for i in list(df_pnovo_ETD_DE.Sq)]\n",
    "df_pnovo_ETD_DE['sequence_length']=sequence_length\n",
    "\n",
    "file='selected_lumos_cid.txt'\n",
    "df_pnovo_cid=pd.read_csv(file, sep='\\t')\n",
    "sequence_length=[len(str(i)) for i in list(df_pnovo_cid.Sq)]\n",
    "df_pnovo_cid['sequence_length']=sequence_length\n",
    "\n",
    "file='selected_lumos_HCD.txt'\n",
    "df_lumos_hcd=pd.read_csv(file, sep='\\t')\n",
    "sequence_length=[len(str(i)) for i in list(df_lumos_hcd.Sq)]\n",
    "df_lumos_hcd['sequence_length']=sequence_length\n",
    "\n",
    "## de novo result from PEAKS\n",
    "df_PEAKS=pd.read_csv('de novo peptides_peaks_qe.csv')"
   ]
  },
  {
   "cell_type": "markdown",
   "metadata": {},
   "source": [
    "### Dictionary: Molecular Biology + Google 10k most commonly used words"
   ]
  },
  {
   "cell_type": "code",
   "execution_count": 4,
   "metadata": {},
   "outputs": [
    {
     "name": "stdout",
     "output_type": "stream",
     "text": [
      "CPU times: user 2min 19s, sys: 932 ms, total: 2min 19s\n",
      "Wall time: 2min 21s\n"
     ]
    }
   ],
   "source": [
    "%%time\n",
    "# Molecular Biology (5th edition) by Robert F. Weaver downloaded from:\n",
    "# https://www.pdfdrive.com/molecular-biology-5th-ed-e14980853.html\n",
    "\n",
    "pdf_file = open('molecular_biology_r-_f-_weaver_5th_ed.pdf', 'rb')\n",
    "read_pdf = PyPDF2.PdfFileReader(pdf_file)\n",
    "number_of_pages = read_pdf.getNumPages()\n",
    "c = collections.Counter(range(number_of_pages))\n",
    "book=''\n",
    "for i in c:\n",
    "    page = read_pdf.getPage(i)\n",
    "    page_content = page.extractText()\n",
    "    book=book+page_content\n",
    "\n",
    "result=book\n",
    "punctuations=['\\n', '/', '.', ',',' ', '(', ')', ':', '?', '[', ']', ';', '“', '”', '_']\n",
    "for i in punctuations:\n",
    "    result=result.replace(i, ' ')\n",
    "result=result.replace('–', '')\n",
    "result=result.replace('-', '')\n",
    "result=result.split(' ')\n",
    "result=[j for j in result if len(j) > 1]\n",
    "\n",
    "result_dict=Counter([i for i in result])\n",
    "sorted_result = sorted(result_dict.items(), key=operator.itemgetter(1), reverse=True)\n",
    "#words_MB=[i[0] for i in sorted_result]\n",
    "#len(words_MB)"
   ]
  },
  {
   "cell_type": "code",
   "execution_count": 5,
   "metadata": {},
   "outputs": [
    {
     "data": {
      "text/plain": [
       "(32213, 2)"
      ]
     },
     "execution_count": 5,
     "metadata": {},
     "output_type": "execute_result"
    }
   ],
   "source": [
    "df_MB=pd.DataFrame(sorted_result)\n",
    "df_MB.columns=('words', 'occurence')\n",
    "df_MB.to_csv('words_MB.csv')\n",
    "df_MB.shape"
   ]
  },
  {
   "cell_type": "code",
   "execution_count": 6,
   "metadata": {
    "collapsed": true
   },
   "outputs": [],
   "source": [
    "## google 10k most common words downloaded from https://github.com/first20hours/google-10000-english\n",
    "\n",
    "df_10k = pd.read_csv('10kwords.txt', sep='\\t')\n",
    "df_10k.columns=['words']\n",
    "words_10k=list(df_10k.words)\n",
    "words_10k=[i for i in words_10k if len(str(i))>1]\n",
    "\n",
    "words_MB=list(df_MB['words'])\n",
    "words_combined=list(set(words_10k+words_MB))"
   ]
  },
  {
   "cell_type": "code",
   "execution_count": 7,
   "metadata": {},
   "outputs": [],
   "source": [
    "path ='/Users/niulili/Dropbox/PythonCourse2018/Impractical Python projects/12dicts-6/American'\n",
    "file = path+'/2of4brif.txt'\n",
    "\n",
    "with open(file) as in_file:\n",
    "    word_list = in_file.read().strip().split('\\n')\n",
    "words_60k=word_list"
   ]
  },
  {
   "cell_type": "code",
   "execution_count": 8,
   "metadata": {},
   "outputs": [
    {
     "data": {
      "text/plain": [
       "4345"
      ]
     },
     "execution_count": 8,
     "metadata": {},
     "output_type": "execute_result"
    }
   ],
   "source": [
    "len(list(set(words_MB) & set(words_10k)))"
   ]
  },
  {
   "cell_type": "code",
   "execution_count": 9,
   "metadata": {},
   "outputs": [
    {
     "name": "stdout",
     "output_type": "stream",
     "text": [
      "9870\n",
      "32213\n",
      "37738\n"
     ]
    }
   ],
   "source": [
    "for i in [words_10k, words_MB, words_combined]:\n",
    "    print(len(i))"
   ]
  },
  {
   "cell_type": "code",
   "execution_count": 10,
   "metadata": {},
   "outputs": [
    {
     "data": {
      "text/html": [
       "<div>\n",
       "<style scoped>\n",
       "    .dataframe tbody tr th:only-of-type {\n",
       "        vertical-align: middle;\n",
       "    }\n",
       "\n",
       "    .dataframe tbody tr th {\n",
       "        vertical-align: top;\n",
       "    }\n",
       "\n",
       "    .dataframe thead th {\n",
       "        text-align: right;\n",
       "    }\n",
       "</style>\n",
       "<table border=\"1\" class=\"dataframe\">\n",
       "  <thead>\n",
       "    <tr style=\"text-align: right;\">\n",
       "      <th></th>\n",
       "      <th>words</th>\n",
       "      <th>occurence</th>\n",
       "    </tr>\n",
       "  </thead>\n",
       "  <tbody>\n",
       "    <tr>\n",
       "      <th>68</th>\n",
       "      <td>colleagues</td>\n",
       "      <td>948</td>\n",
       "    </tr>\n",
       "  </tbody>\n",
       "</table>\n",
       "</div>"
      ],
      "text/plain": [
       "         words  occurence\n",
       "68  colleagues        948"
      ]
     },
     "execution_count": 10,
     "metadata": {},
     "output_type": "execute_result"
    }
   ],
   "source": [
    "df_MB[df_MB['words']=='colleagues']"
   ]
  },
  {
   "cell_type": "markdown",
   "metadata": {},
   "source": [
    "#### prepare a dictionary that takes care of words cut in the middle e.g. WK_NDER_ED"
   ]
  },
  {
   "cell_type": "code",
   "execution_count": 11,
   "metadata": {},
   "outputs": [
    {
     "name": "stdout",
     "output_type": "stream",
     "text": [
      "37738\n",
      "22443\n",
      "56930\n"
     ]
    }
   ],
   "source": [
    "dictionary=words_combined\n",
    "dict_r=words_cut_dict(dictionary, 'r')\n",
    "dict_o=words_cut_dict(dictionary, 'o')\n",
    "dict_u=words_cut_dict(dictionary, 'u')\n",
    "dict_variant=dict_r.copy()\n",
    "dict_variant.update(dict_o)\n",
    "dict_variant.update(dict_u)\n",
    "\n",
    "dict_complete=dict(zip(dictionary, dictionary))\n",
    "\n",
    "dict_all=dict_variant.copy()\n",
    "dict_all.update(dict_complete)\n",
    "\n",
    "print(len(dict_complete))\n",
    "print(len(dict_variant))\n",
    "print(len(dict_all))\n",
    "\n",
    "words_all = list(dict_all.keys())"
   ]
  },
  {
   "cell_type": "markdown",
   "metadata": {},
   "source": [
    "### Peptide sequences extracted from pNovo result"
   ]
  },
  {
   "cell_type": "code",
   "execution_count": 12,
   "metadata": {},
   "outputs": [
    {
     "name": "stdout",
     "output_type": "stream",
     "text": [
      "24764\n"
     ]
    },
    {
     "data": {
      "text/html": [
       "<div>\n",
       "<style scoped>\n",
       "    .dataframe tbody tr th:only-of-type {\n",
       "        vertical-align: middle;\n",
       "    }\n",
       "\n",
       "    .dataframe tbody tr th {\n",
       "        vertical-align: top;\n",
       "    }\n",
       "\n",
       "    .dataframe thead th {\n",
       "        text-align: right;\n",
       "    }\n",
       "</style>\n",
       "<table border=\"1\" class=\"dataframe\">\n",
       "  <thead>\n",
       "    <tr style=\"text-align: right;\">\n",
       "      <th></th>\n",
       "      <th>#</th>\n",
       "      <th>Title</th>\n",
       "      <th>Charge</th>\n",
       "      <th>Sq</th>\n",
       "      <th>Mod_Sites</th>\n",
       "      <th>Score</th>\n",
       "      <th>Spectra Mass</th>\n",
       "      <th>Delta Mass</th>\n",
       "      <th>Delta Mass (PPM)</th>\n",
       "      <th>AA Score</th>\n",
       "      <th>sequence_length</th>\n",
       "    </tr>\n",
       "  </thead>\n",
       "  <tbody>\n",
       "    <tr>\n",
       "      <th>0</th>\n",
       "      <td>89405</td>\n",
       "      <td>E:\\YPIC\\20181126_QE10_nLC14_LiNi_SA_Fun_01.raw</td>\n",
       "      <td>2</td>\n",
       "      <td>NDAMENTALLLMRTATLGKNSLNLLFEAR</td>\n",
       "      <td>13,Arg-&gt;Orn[R];</td>\n",
       "      <td>114.797324</td>\n",
       "      <td>1995.023724</td>\n",
       "      <td>-0.011826</td>\n",
       "      <td>-5.93</td>\n",
       "      <td>NaN</td>\n",
       "      <td>29</td>\n",
       "    </tr>\n",
       "    <tr>\n",
       "      <th>1</th>\n",
       "      <td>6898</td>\n",
       "      <td>E:\\YPIC\\20181126_QE10_nLC14_LiNi_SA_Fun_01.raw</td>\n",
       "      <td>2</td>\n",
       "      <td>TAVGPLSVALDQHESFLFYK</td>\n",
       "      <td>NaN</td>\n",
       "      <td>102.795096</td>\n",
       "      <td>1995.023724</td>\n",
       "      <td>-0.006495</td>\n",
       "      <td>-3.26</td>\n",
       "      <td>NaN</td>\n",
       "      <td>20</td>\n",
       "    </tr>\n",
       "    <tr>\n",
       "      <th>2</th>\n",
       "      <td>33908</td>\n",
       "      <td>E:\\YPIC\\20181126_QE10_nLC14_LiNi_SA_Fun_01.raw</td>\n",
       "      <td>2</td>\n",
       "      <td>QDALNAVEQHGLVFLDELDK</td>\n",
       "      <td>5,Label_15N(2)[N];</td>\n",
       "      <td>98.992700</td>\n",
       "      <td>1995.023724</td>\n",
       "      <td>-0.006890</td>\n",
       "      <td>-3.45</td>\n",
       "      <td>NaN</td>\n",
       "      <td>20</td>\n",
       "    </tr>\n",
       "    <tr>\n",
       "      <th>3</th>\n",
       "      <td>26832</td>\n",
       "      <td>E:\\YPIC\\20181126_QE10_nLC14_LiNi_SA_Fun_01.raw</td>\n",
       "      <td>2</td>\n",
       "      <td>TYAATSDFTLLMFKHANPAFNLFWAGWDR</td>\n",
       "      <td>NaN</td>\n",
       "      <td>98.770167</td>\n",
       "      <td>1995.023724</td>\n",
       "      <td>-0.004901</td>\n",
       "      <td>-2.46</td>\n",
       "      <td>NaN</td>\n",
       "      <td>29</td>\n",
       "    </tr>\n",
       "    <tr>\n",
       "      <th>4</th>\n",
       "      <td>24891</td>\n",
       "      <td>E:\\YPIC\\20181126_QE10_nLC14_LiNi_SA_Fun_01.raw</td>\n",
       "      <td>2</td>\n",
       "      <td>TLHVVAQVADVLQQQSLHVR</td>\n",
       "      <td>NaN</td>\n",
       "      <td>98.187362</td>\n",
       "      <td>1995.023724</td>\n",
       "      <td>-0.000488</td>\n",
       "      <td>-0.24</td>\n",
       "      <td>NaN</td>\n",
       "      <td>20</td>\n",
       "    </tr>\n",
       "  </tbody>\n",
       "</table>\n",
       "</div>"
      ],
      "text/plain": [
       "       #                                           Title  Charge  \\\n",
       "0  89405  E:\\YPIC\\20181126_QE10_nLC14_LiNi_SA_Fun_01.raw       2   \n",
       "1   6898  E:\\YPIC\\20181126_QE10_nLC14_LiNi_SA_Fun_01.raw       2   \n",
       "2  33908  E:\\YPIC\\20181126_QE10_nLC14_LiNi_SA_Fun_01.raw       2   \n",
       "3  26832  E:\\YPIC\\20181126_QE10_nLC14_LiNi_SA_Fun_01.raw       2   \n",
       "4  24891  E:\\YPIC\\20181126_QE10_nLC14_LiNi_SA_Fun_01.raw       2   \n",
       "\n",
       "                              Sq           Mod_Sites       Score  \\\n",
       "0  NDAMENTALLLMRTATLGKNSLNLLFEAR     13,Arg->Orn[R];  114.797324   \n",
       "1           TAVGPLSVALDQHESFLFYK                 NaN  102.795096   \n",
       "2           QDALNAVEQHGLVFLDELDK  5,Label_15N(2)[N];   98.992700   \n",
       "3  TYAATSDFTLLMFKHANPAFNLFWAGWDR                 NaN   98.770167   \n",
       "4           TLHVVAQVADVLQQQSLHVR                 NaN   98.187362   \n",
       "\n",
       "   Spectra Mass  Delta Mass  Delta Mass (PPM) AA Score  sequence_length  \n",
       "0   1995.023724   -0.011826             -5.93      NaN               29  \n",
       "1   1995.023724   -0.006495             -3.26      NaN               20  \n",
       "2   1995.023724   -0.006890             -3.45      NaN               20  \n",
       "3   1995.023724   -0.004901             -2.46      NaN               29  \n",
       "4   1995.023724   -0.000488             -0.24      NaN               20  "
      ]
     },
     "execution_count": 12,
     "metadata": {},
     "output_type": "execute_result"
    }
   ],
   "source": [
    "df_Sq=df_Sq_hcd\n",
    "filtered_Sq = df_Sq.loc[(df_Sq['Score']>30) & (df_Sq['sequence_length']>3)]\n",
    "sequences_pnovo = filtered_Sq['Sq']\n",
    "print(len(filtered_Sq))\n",
    "filtered_Sq.head()"
   ]
  },
  {
   "cell_type": "code",
   "execution_count": 13,
   "metadata": {},
   "outputs": [
    {
     "data": {
      "text/plain": [
       "24764"
      ]
     },
     "execution_count": 13,
     "metadata": {},
     "output_type": "execute_result"
    }
   ],
   "source": [
    "len(filtered_Sq)"
   ]
  },
  {
   "cell_type": "markdown",
   "metadata": {},
   "source": [
    "#### replace 'K' to 'O' and 'U', 'L' to 'I'"
   ]
  },
  {
   "cell_type": "code",
   "execution_count": 14,
   "metadata": {},
   "outputs": [
    {
     "data": {
      "text/plain": [
       "58596"
      ]
     },
     "execution_count": 14,
     "metadata": {},
     "output_type": "execute_result"
    }
   ],
   "source": [
    "sequences_pnovo_all=replace_variants(sequences_pnovo)[0]\n",
    "len(sequences_pnovo_all)"
   ]
  },
  {
   "cell_type": "markdown",
   "metadata": {},
   "source": [
    "### Peptide sequences extracted from pNovo result_2"
   ]
  },
  {
   "cell_type": "code",
   "execution_count": 15,
   "metadata": {
    "collapsed": true
   },
   "outputs": [],
   "source": [
    "def filter_pnovo_Sequences (df, score, seq_len=3):\n",
    "    filtered_df=df.loc[(df['Score']>score) & (df['sequence_length']>seq_len)]\n",
    "    sequences=filtered_df['Sq']\n",
    "    return sequences"
   ]
  },
  {
   "cell_type": "code",
   "execution_count": 16,
   "metadata": {
    "collapsed": true
   },
   "outputs": [],
   "source": [
    "sequences_etd_pnovo=filter_pnovo_Sequences(df_pnovo_ETD_DE, score=10)"
   ]
  },
  {
   "cell_type": "markdown",
   "metadata": {},
   "source": [
    "#### replace 'K' to 'O' and 'U', 'L' to 'I'"
   ]
  },
  {
   "cell_type": "code",
   "execution_count": 17,
   "metadata": {},
   "outputs": [
    {
     "data": {
      "text/plain": [
       "17914"
      ]
     },
     "execution_count": 17,
     "metadata": {},
     "output_type": "execute_result"
    }
   ],
   "source": [
    "sequences_etd_pnovo_all=replace_variants(sequences_etd_pnovo)[0]\n",
    "len(sequences_etd_pnovo_all)"
   ]
  },
  {
   "cell_type": "markdown",
   "metadata": {},
   "source": [
    "### Peptide sequences extracted from pNovo result_3"
   ]
  },
  {
   "cell_type": "code",
   "execution_count": 18,
   "metadata": {},
   "outputs": [],
   "source": [
    "sequences_cid_pnovo=filter_pnovo_Sequences(df_pnovo_cid, score=10)"
   ]
  },
  {
   "cell_type": "code",
   "execution_count": 19,
   "metadata": {},
   "outputs": [
    {
     "data": {
      "text/plain": [
       "58176"
      ]
     },
     "execution_count": 19,
     "metadata": {},
     "output_type": "execute_result"
    }
   ],
   "source": [
    "sequences_cid_pnovo_all=replace_variants(sequences_cid_pnovo)[0]\n",
    "len(sequences_cid_pnovo_all)"
   ]
  },
  {
   "cell_type": "markdown",
   "metadata": {},
   "source": [
    "### Peptide sequences extracted from PEAKS result"
   ]
  },
  {
   "cell_type": "code",
   "execution_count": 20,
   "metadata": {},
   "outputs": [],
   "source": [
    "def filter_peaks_sequences (df):\n",
    "    \"\"\"To process de novo output from PEAKS and apply filter\"\"\"\n",
    "    df_filter = df[(df.Area >10e4) &(abs(df.ppm < 5)) & (df['ALC (%)'] > 60)]\n",
    "    peptides = df_filter['Peptide']\n",
    "    \n",
    "    sequences = []\n",
    "    for i in peptides:\n",
    "        new_i = re.sub(\"[\\(\\[].*?[\\)\\]]\", \"\", i)\n",
    "        sequences.append(new_i)\n",
    "    \n",
    "    sequences_all = replace_variants(sequences)[0]\n",
    "    return sequences_all"
   ]
  },
  {
   "cell_type": "code",
   "execution_count": 27,
   "metadata": {},
   "outputs": [
    {
     "data": {
      "text/plain": [
       "27176"
      ]
     },
     "execution_count": 27,
     "metadata": {},
     "output_type": "execute_result"
    }
   ],
   "source": [
    "sequences_peaks = filter_peaks_sequences(df_PEAKS)\n",
    "len(sequences_peaks)"
   ]
  },
  {
   "cell_type": "markdown",
   "metadata": {},
   "source": [
    "### dictionary search "
   ]
  },
  {
   "cell_type": "code",
   "execution_count": 30,
   "metadata": {},
   "outputs": [
    {
     "name": "stdout",
     "output_type": "stream",
     "text": [
      "CPU times: user 18min 22s, sys: 1.92 s, total: 18min 24s\n",
      "Wall time: 38min 33s\n"
     ]
    }
   ],
   "source": [
    "%%time\n",
    "\n",
    "dictionary=words_all\n",
    "sequences=sequences_pnovo_all\n",
    "dict_complete=dict_all\n",
    "afun=return_word_dict(dictionary, sequences, 2, dict_complete)\n",
    "\n",
    "possible=pd.DataFrame(afun).transpose().reset_index()\n",
    "possible.columns=['word','fragment', 'occurence']\n",
    "evidence_letters=[len(str(i)) for i in list(possible['fragment'])]\n",
    "possible['identified_letters']=evidence_letters\n",
    "aa=possible[(possible['identified_letters']>2)&(possible['occurence']>1)].sort_values('occurence', ascending=False)\n",
    "#aa.to_csv('Supple_1.csv')\n",
    "aa[aa['identified_letters']>4]"
   ]
  },
  {
   "cell_type": "code",
   "execution_count": 31,
   "metadata": {
    "scrolled": true
   },
   "outputs": [
    {
     "data": {
      "text/html": [
       "<div>\n",
       "<style scoped>\n",
       "    .dataframe tbody tr th:only-of-type {\n",
       "        vertical-align: middle;\n",
       "    }\n",
       "\n",
       "    .dataframe tbody tr th {\n",
       "        vertical-align: top;\n",
       "    }\n",
       "\n",
       "    .dataframe thead th {\n",
       "        text-align: right;\n",
       "    }\n",
       "</style>\n",
       "<table border=\"1\" class=\"dataframe\">\n",
       "  <thead>\n",
       "    <tr style=\"text-align: right;\">\n",
       "      <th></th>\n",
       "      <th>word</th>\n",
       "      <th>fragment</th>\n",
       "      <th>occurence</th>\n",
       "      <th>identified_letters</th>\n",
       "    </tr>\n",
       "  </thead>\n",
       "  <tbody>\n",
       "    <tr>\n",
       "      <th>251</th>\n",
       "      <td>mental</td>\n",
       "      <td>mental</td>\n",
       "      <td>167</td>\n",
       "      <td>6</td>\n",
       "    </tr>\n",
       "    <tr>\n",
       "      <th>406</th>\n",
       "      <td>tournament</td>\n",
       "      <td>nament</td>\n",
       "      <td>112</td>\n",
       "      <td>6</td>\n",
       "    </tr>\n",
       "    <tr>\n",
       "      <th>467</th>\n",
       "      <td>theta</td>\n",
       "      <td>theta</td>\n",
       "      <td>99</td>\n",
       "      <td>5</td>\n",
       "    </tr>\n",
       "    <tr>\n",
       "      <th>509</th>\n",
       "      <td>ultracentrifuged</td>\n",
       "      <td>acent</td>\n",
       "      <td>87</td>\n",
       "      <td>5</td>\n",
       "    </tr>\n",
       "    <tr>\n",
       "      <th>575</th>\n",
       "      <td>prescan</td>\n",
       "      <td>escan</td>\n",
       "      <td>73</td>\n",
       "      <td>5</td>\n",
       "    </tr>\n",
       "    <tr>\n",
       "      <th>707</th>\n",
       "      <td>dered</td>\n",
       "      <td>dered</td>\n",
       "      <td>57</td>\n",
       "      <td>5</td>\n",
       "    </tr>\n",
       "    <tr>\n",
       "      <th>887</th>\n",
       "      <td>fundamental</td>\n",
       "      <td>ndamental</td>\n",
       "      <td>39</td>\n",
       "      <td>9</td>\n",
       "    </tr>\n",
       "    <tr>\n",
       "      <th>1066</th>\n",
       "      <td>allel</td>\n",
       "      <td>allel</td>\n",
       "      <td>28</td>\n",
       "      <td>5</td>\n",
       "    </tr>\n",
       "    <tr>\n",
       "      <th>1385</th>\n",
       "      <td>collectors</td>\n",
       "      <td>llect</td>\n",
       "      <td>14</td>\n",
       "      <td>5</td>\n",
       "    </tr>\n",
       "    <tr>\n",
       "      <th>1408</th>\n",
       "      <td>somewhat</td>\n",
       "      <td>mewhat</td>\n",
       "      <td>14</td>\n",
       "      <td>6</td>\n",
       "    </tr>\n",
       "    <tr>\n",
       "      <th>1186</th>\n",
       "      <td>respec</td>\n",
       "      <td>respec</td>\n",
       "      <td>14</td>\n",
       "      <td>6</td>\n",
       "    </tr>\n",
       "    <tr>\n",
       "      <th>1449</th>\n",
       "      <td>ontario</td>\n",
       "      <td>ntari</td>\n",
       "      <td>13</td>\n",
       "      <td>5</td>\n",
       "    </tr>\n",
       "    <tr>\n",
       "      <th>1479</th>\n",
       "      <td>names</td>\n",
       "      <td>names</td>\n",
       "      <td>12</td>\n",
       "      <td>5</td>\n",
       "    </tr>\n",
       "    <tr>\n",
       "      <th>1474</th>\n",
       "      <td>mentary</td>\n",
       "      <td>mentar</td>\n",
       "      <td>12</td>\n",
       "      <td>6</td>\n",
       "    </tr>\n",
       "    <tr>\n",
       "      <th>1459</th>\n",
       "      <td>postscan</td>\n",
       "      <td>stscan</td>\n",
       "      <td>12</td>\n",
       "      <td>6</td>\n",
       "    </tr>\n",
       "    <tr>\n",
       "      <th>1528</th>\n",
       "      <td>wondered</td>\n",
       "      <td>ndered</td>\n",
       "      <td>11</td>\n",
       "      <td>6</td>\n",
       "    </tr>\n",
       "    <tr>\n",
       "      <th>1576</th>\n",
       "      <td>allen</td>\n",
       "      <td>allen</td>\n",
       "      <td>10</td>\n",
       "      <td>5</td>\n",
       "    </tr>\n",
       "    <tr>\n",
       "      <th>1690</th>\n",
       "      <td>foremost</td>\n",
       "      <td>emost</td>\n",
       "      <td>9</td>\n",
       "      <td>5</td>\n",
       "    </tr>\n",
       "    <tr>\n",
       "      <th>1683</th>\n",
       "      <td>opment</td>\n",
       "      <td>pment</td>\n",
       "      <td>9</td>\n",
       "      <td>5</td>\n",
       "    </tr>\n",
       "    <tr>\n",
       "      <th>1723</th>\n",
       "      <td>unloading</td>\n",
       "      <td>ading</td>\n",
       "      <td>9</td>\n",
       "      <td>5</td>\n",
       "    </tr>\n",
       "  </tbody>\n",
       "</table>\n",
       "</div>"
      ],
      "text/plain": [
       "                  word   fragment occurence  identified_letters\n",
       "251             mental     mental       167                   6\n",
       "406         tournament     nament       112                   6\n",
       "467              theta      theta        99                   5\n",
       "509   ultracentrifuged      acent        87                   5\n",
       "575            prescan      escan        73                   5\n",
       "707              dered      dered        57                   5\n",
       "887        fundamental  ndamental        39                   9\n",
       "1066             allel      allel        28                   5\n",
       "1385        collectors      llect        14                   5\n",
       "1408          somewhat     mewhat        14                   6\n",
       "1186            respec     respec        14                   6\n",
       "1449           ontario      ntari        13                   5\n",
       "1479             names      names        12                   5\n",
       "1474           mentary     mentar        12                   6\n",
       "1459          postscan     stscan        12                   6\n",
       "1528          wondered     ndered        11                   6\n",
       "1576             allen      allen        10                   5\n",
       "1690          foremost      emost         9                   5\n",
       "1683            opment      pment         9                   5\n",
       "1723         unloading      ading         9                   5"
      ]
     },
     "execution_count": 31,
     "metadata": {},
     "output_type": "execute_result"
    }
   ],
   "source": [
    "aa[aa['identified_letters']>4][:20]"
   ]
  },
  {
   "cell_type": "markdown",
   "metadata": {},
   "source": [
    "#### Plot"
   ]
  },
  {
   "cell_type": "code",
   "execution_count": 32,
   "metadata": {
    "collapsed": true
   },
   "outputs": [],
   "source": [
    "peptides= [23, 351, 3253]\n",
    "proteins= [1, 35, 555]"
   ]
  },
  {
   "cell_type": "code",
   "execution_count": 33,
   "metadata": {},
   "outputs": [
    {
     "data": {
      "image/png": "[encoded data removed]",
      "text/plain": [
       "<matplotlib.figure.Figure at 0x11c4c62e8>"
      ]
     },
     "metadata": {},
     "output_type": "display_data"
    }
   ],
   "source": [
    "fig, ax=plt.subplots(figsize=(3,4))\n",
    "plt.bar(x=[1,2,3], height=proteins, color='lightblue')\n",
    "plt.xticks(range(1, 4), ('the sentence', 'Contaminants', 'Co-purified proteins'), rotation=30)\n",
    "plt.title('Protein abundance')\n",
    "plt.ylabel('Raw intensity [log10]')\n",
    "plt.savefig('protein abundance.pdf', bbox_inches='tight')\n",
    "plt.show()\n"
   ]
  },
  {
   "cell_type": "code",
   "execution_count": null,
   "metadata": {},
   "outputs": [],
   "source": []
  }
 ],
 "metadata": {
  "kernelspec": {
   "display_name": "Python 3",
   "language": "python",
   "name": "python3"
  },
  "language_info": {
   "codemirror_mode": {
    "name": "ipython",
    "version": 3
   },
   "file_extension": ".py",
   "mimetype": "text/x-python",
   "name": "python",
   "nbconvert_exporter": "python",
   "pygments_lexer": "ipython3",
   "version": "3.6.3"
  }
 },
 "nbformat": 4,
 "nbformat_minor": 2
}
